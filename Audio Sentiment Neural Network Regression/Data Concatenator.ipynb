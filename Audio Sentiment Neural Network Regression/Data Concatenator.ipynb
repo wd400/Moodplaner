{
 "cells": [
  {
   "cell_type": "code",
   "execution_count": 1,
   "source": [
    "# TensorFlow and tf.keras\n",
    "import tensorflow as tf\n",
    "from tensorflow import keras\n",
    "\n",
    "# Helper libraries\n",
    "import numpy as np\n",
    "import matplotlib.pyplot as plt\n",
    "import glob\n",
    "import os\n",
    "import csv\n",
    "import pandas as pd\n",
    "print(tf.__version__)"
   ],
   "outputs": [
    {
     "output_type": "stream",
     "name": "stdout",
     "text": [
      "1.10.0\n"
     ]
    }
   ],
   "metadata": {}
  },
  {
   "cell_type": "code",
   "execution_count": 2,
   "source": [
    "# LOAD DATA\n",
    "x_train = np.load(\"train_x.npy\")\n",
    "x_test = np.load(\"test_x.npy\")\n",
    "valence_y_train = np.load(\"valence_train_y.npy\")\n",
    "valence_y_test = np.load(\"valence_test_y.npy\")\n",
    "arousal_y_train = np.load(\"arousal_train_y.npy\")\n",
    "arousal_y_test = np.load(\"arousal_test_y.npy\")\n",
    "print(x_train.shape,x_test.shape)"
   ],
   "outputs": [
    {
     "output_type": "stream",
     "name": "stdout",
     "text": [
      "(1351, 193) (451, 193)\n"
     ]
    }
   ],
   "metadata": {}
  },
  {
   "cell_type": "code",
   "execution_count": 3,
   "source": [
    "# CONCATENATE\n",
    "audio_data = np.vstack([x_train,x_test])\n",
    "valence_labels = np.vstack([valence_y_train,valence_y_test])\n",
    "valence_labels = valence_labels.flatten()\n",
    "arousal_labels = np.vstack([arousal_y_train,arousal_y_test])\n",
    "arousal_labels = arousal_labels.flatten()\n",
    "print(audio_data.shape, valence_labels.shape, arousal_labels.shape)"
   ],
   "outputs": [
    {
     "output_type": "stream",
     "name": "stdout",
     "text": [
      "(1802, 193) (1802,) (1802,)\n"
     ]
    }
   ],
   "metadata": {}
  },
  {
   "cell_type": "code",
   "execution_count": 4,
   "source": [
    "# SAVE\n",
    "np.save('audio_data.npy', audio_data)\n",
    "np.save('valence_labels.npy', valence_labels)\n",
    "np.save('arousal_labels.npy', arousal_labels)"
   ],
   "outputs": [],
   "metadata": {}
  },
  {
   "cell_type": "code",
   "execution_count": null,
   "source": [],
   "outputs": [],
   "metadata": {}
  }
 ],
 "metadata": {
  "kernelspec": {
   "name": "python3",
   "display_name": "Python 3.8.10 64-bit"
  },
  "language_info": {
   "codemirror_mode": {
    "name": "ipython",
    "version": 3
   },
   "file_extension": ".py",
   "mimetype": "text/x-python",
   "name": "python",
   "nbconvert_exporter": "python",
   "pygments_lexer": "ipython3",
   "version": "3.8.10"
  },
  "interpreter": {
   "hash": "916dbcbb3f70747c44a77c7bcd40155683ae19c65e1c03b4aa3499c5328201f1"
  }
 },
 "nbformat": 4,
 "nbformat_minor": 2
}